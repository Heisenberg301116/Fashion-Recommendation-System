{
 "cells": [
  {
   "cell_type": "markdown",
   "id": "a8838701",
   "metadata": {},
   "source": [
    "# In this notebook, we would be using ChatGPT in order to understand the user's requirements and extract all the relevant attributes of the clothing from his query"
   ]
  },
  {
   "cell_type": "markdown",
   "id": "68de11f7",
   "metadata": {},
   "source": [
    "### Importing libraries"
   ]
  },
  {
   "cell_type": "code",
   "execution_count": 1,
   "id": "de6a186c",
   "metadata": {},
   "outputs": [],
   "source": [
    "import os\n",
    "from dotenv import load_dotenv \n",
    "import openai"
   ]
  },
  {
   "cell_type": "code",
   "execution_count": 2,
   "id": "7b8553d2",
   "metadata": {},
   "outputs": [
    {
     "data": {
      "text/plain": [
       "'D:\\\\Projects\\\\Flipkart\\\\Fashion_Recommender_System'"
      ]
     },
     "execution_count": 2,
     "metadata": {},
     "output_type": "execute_result"
    }
   ],
   "source": [
    "os.getcwd()"
   ]
  },
  {
   "cell_type": "markdown",
   "id": "f0aacd2c",
   "metadata": {},
   "source": [
    "### Loading OpenAI api-key"
   ]
  },
  {
   "cell_type": "code",
   "execution_count": 3,
   "id": "4f45d69e",
   "metadata": {},
   "outputs": [],
   "source": [
    "load_dotenv()\n",
    "openai.api_key = os.getenv('api_key')"
   ]
  },
  {
   "cell_type": "markdown",
   "id": "dbe0a2b5",
   "metadata": {},
   "source": [
    "### Accepting the query of the user"
   ]
  },
  {
   "cell_type": "code",
   "execution_count": 4,
   "id": "f6411ab9",
   "metadata": {},
   "outputs": [
    {
     "name": "stdout",
     "output_type": "stream",
     "text": [
      "Enter your search query: I am looking for a shirt of green colour and size XL for men that can be worn for parties. It should be plain and not check. It should be long sleeved with rating of at-least 4. The price should be around Rs 700. It should be long sleeved and of brand Adidas. \n"
     ]
    }
   ],
   "source": [
    "user_query = input(\"Enter your search query: \")"
   ]
  },
  {
   "cell_type": "markdown",
   "id": "e5fd1f7b",
   "metadata": {},
   "source": [
    "### Handling the request limit for ChatGPT (Max 3 requests per 1 minute interval)"
   ]
  },
  {
   "cell_type": "code",
   "execution_count": 5,
   "id": "10f878e2",
   "metadata": {},
   "outputs": [],
   "source": [
    "def Limit_Max_Requests_per_minute():\n",
    "    global total_requests_till_now\n",
    "    global last_request_time\n",
    "    \n",
    "    if(total_requests_till_now == 0 or time.time() - last_request_time > 60 + 1):      # 60s = 1 min (+1 for safe side)\n",
    "        last_request_time = time.time()\n",
    "        total_requests_till_now = 1\n",
    "\n",
    "    elif(time.time() - last_request_time <= 60 and total_requests_till_now < 3):   # max no. of requests = 3 per min \n",
    "        total_requests_till_now += 1\n",
    "\n",
    "    else:                                                                  # wait for 1 min to be over for next API request.\n",
    "        time_to_wait = (60+1) - (time.time() - last_request_time)      \n",
    "        # +1s was done to compromise in some cases where python rounds off 45.2743492493243289 to 45.\n",
    "        \n",
    "        print(colored(\"Please wait for {} seconds.....\".format(time_to_wait), 'red'))\n",
    "        time.sleep(time_to_wait)\n",
    "        last_request_time = time.time()\n",
    "        total_requests_till_now = 1"
   ]
  },
  {
   "cell_type": "markdown",
   "id": "bad7708c",
   "metadata": {},
   "source": [
    "### Extracting the clothing type desired by the user "
   ]
  },
  {
   "cell_type": "code",
   "execution_count": 6,
   "id": "d298e53c",
   "metadata": {},
   "outputs": [],
   "source": [
    "def Extract_Category(user_query): \n",
    "    \n",
    "    instruction = \"\"\"You are an intelligent information extraction bot. You are provided with a context. The context talks about one of the following clothing outfit:\n",
    "    1) hat\n",
    "    2) outwear\n",
    "    3) pants\n",
    "    4) shirt\n",
    "    5) shoes\n",
    "    6) shorts\n",
    "    7) skirt\n",
    "    8) t-shirt\n",
    "    \n",
    "    You have to analyze the context and predict which of the above 8 categories is being talked about in the context. \n",
    "    \n",
    "    Return format: Only return a single word string !!! \n",
    "    \"\"\"\n",
    "    \n",
    "    message = \"\"\"\n",
    "    \n",
    "    %Context\n",
    "    {user_query}\n",
    "    \n",
    "    %Your Answer\n",
    "    \"\"\"\n",
    "    \n",
    "    \n",
    "    message = message.format(user_query=user_query)\n",
    "\n",
    "    prompt = [\n",
    "        {\"role\": \"system\", \"content\": instruction},\n",
    "        {\"role\": \"user\", \"content\": message},\n",
    "    ]\n",
    "\n",
    "\n",
    "    Limit_Max_Requests_per_minute()\n",
    "\n",
    "    response = openai.ChatCompletion.create(\n",
    "        model='gpt-3.5-turbo',\n",
    "        messages=prompt,\n",
    "        temperature=0.7\n",
    "    )   \n",
    "\n",
    "    response_message = response[\"choices\"][0][\"message\"][\"content\"]\n",
    "    \n",
    "    return response_message"
   ]
  },
  {
   "cell_type": "code",
   "execution_count": 7,
   "id": "b1199a13",
   "metadata": {},
   "outputs": [
    {
     "data": {
      "text/plain": [
       "'Shirt'"
      ]
     },
     "execution_count": 7,
     "metadata": {},
     "output_type": "execute_result"
    }
   ],
   "source": [
    "category = Extract_Category(user_query)\n",
    "category"
   ]
  },
  {
   "cell_type": "markdown",
   "id": "093bb73e",
   "metadata": {},
   "source": [
    "### Extracting the clothing attributes mentioned by the user"
   ]
  },
  {
   "cell_type": "code",
   "execution_count": 8,
   "id": "9684fefa",
   "metadata": {},
   "outputs": [],
   "source": [
    "def Extract_Attributes(user_query): \n",
    "    \n",
    "    instruction = \"\"\"You are an intelligent information extraction bot. You are provided with a context. The context mentions the following 12 listed attributes (as keys) along with the possible values they can take (as set) of a Shirt clothing: \n",
    "    1) Brand: {'Adidas', 'Nike', 'Puma', 'Lyra', 'Peter England', 'Zara', 'Calvin Klein', 'Express', 'Arrow', 'Raymond', 'Levi's'}\n",
    "    2) Size: {'S', 'M', 'L', 'XL', XXL'}\n",
    "    3) Color: {'Red', 'Blue', 'Green', 'Pink', 'Yellow', 'Purple', 'Navy', 'Black', 'Maroon', 'White', 'Grey'}\n",
    "    4) Regional Existence: {'North India', 'South India', 'North East India', 'West India', 'Punjab', 'Haryana', 'Kerala', 'Tamil Nadu', 'Gujarat and Rajasthan', 'Kashmir, Himachal and Uttarakhand', 'Kerala and Tamil Nadu', 'All over India'}\n",
    "    5) Gender: {'Male', 'Female', 'Unisex'}\n",
    "    6) Body Type: {'Slim', 'Athletic/Muscular', 'Regular' 'Tall', 'Short'}\n",
    "    7) Occasion: {'Casual', 'Business-Casual', 'Formal', 'Special Events', 'Cultural and Festive Celebrations', 'Travel', 'Outdoor Activities'}\n",
    "    8) Price: An integer value\n",
    "    9) Age: {'less than 15 years', '15-20 years' '20-30 years', 'above 30 years', 'above 50 years'}\n",
    "    10) Style: {'Dress Shirt', 'Button-Down Shirt', 'Polo Shirt', 'Check Shirt', 'Plain Shirt'}\n",
    "    11) Sleeves: {'Long sleeved', 'Sleeveless'}\n",
    "    12) Rating: A floating value lying between 1 to 5\n",
    "    \n",
    "    You have to analyze the context and extract the above mentioned attributes. If the exact value of an attribute is not present in the context, select the one from the select most closer to the one mentioned in the context. And if any attribute is not at all mentioned in the context (either directly or indirectly), write 'NULL' to its key.\n",
    "    \n",
    "    Return format: Only return a dictionary with keys as all the above mentioned attributes and values as the information extracted from the context or NULL (if not listed in the context). !!! \n",
    "    \"\"\"\n",
    "    \n",
    "    message = \"\"\"\n",
    "    \n",
    "    %Context\n",
    "    {user_query}\n",
    "    \n",
    "    %Your Answer\n",
    "    \"\"\"\n",
    "    \n",
    "    \n",
    "    message = message.format(user_query=user_query)\n",
    "\n",
    "    prompt = [\n",
    "        {\"role\": \"system\", \"content\": instruction},\n",
    "        {\"role\": \"user\", \"content\": message},\n",
    "    ]\n",
    "\n",
    "\n",
    "    Limit_Max_Requests_per_minute()\n",
    "\n",
    "    response = openai.ChatCompletion.create(\n",
    "        model='gpt-3.5-turbo',\n",
    "        messages=prompt,\n",
    "        temperature=0.7\n",
    "    )   \n",
    "\n",
    "    response_message = response[\"choices\"][0][\"message\"][\"content\"]\n",
    "    \n",
    "    return response_message"
   ]
  },
  {
   "cell_type": "code",
   "execution_count": 10,
   "id": "6273f4d8",
   "metadata": {},
   "outputs": [
    {
     "data": {
      "text/plain": [
       "{'Brand': 'Adidas',\n",
       " 'Size': 'XL',\n",
       " 'Color': 'Green',\n",
       " 'Regional Existence': 'NULL',\n",
       " 'Gender': 'Male',\n",
       " 'Body Type': 'NULL',\n",
       " 'Occasion': 'Special Events',\n",
       " 'Price': 700,\n",
       " 'Age': 'NULL',\n",
       " 'Style': 'Plain Shirt',\n",
       " 'Sleeves': 'Long sleeved',\n",
       " 'Rating': 4.0}"
      ]
     },
     "execution_count": 10,
     "metadata": {},
     "output_type": "execute_result"
    }
   ],
   "source": [
    "attributes = Extract_Attributes(user_query)\n",
    "attributes"
   ]
  },
  {
   "cell_type": "markdown",
   "id": "653ba39c",
   "metadata": {},
   "source": [
    "### Now since we have extracted the attributes, we can perform similarity search using KNN to fetch top most similar clothing outfits as per the requirements of the user"
   ]
  }
 ],
 "metadata": {
  "kernelspec": {
   "display_name": "Python 3 (ipykernel)",
   "language": "python",
   "name": "python3"
  },
  "language_info": {
   "codemirror_mode": {
    "name": "ipython",
    "version": 3
   },
   "file_extension": ".py",
   "mimetype": "text/x-python",
   "name": "python",
   "nbconvert_exporter": "python",
   "pygments_lexer": "ipython3",
   "version": "3.11.4"
  }
 },
 "nbformat": 4,
 "nbformat_minor": 5
}
